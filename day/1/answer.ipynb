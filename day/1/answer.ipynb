{
 "cells": [
  {
   "cell_type": "code",
   "execution_count": 1,
   "metadata": {},
   "outputs": [
    {
     "data": {
      "text/plain": [
       "33583"
      ]
     },
     "execution_count": 1,
     "metadata": {},
     "output_type": "execute_result"
    }
   ],
   "source": [
    "import math\n",
    "def get_fuel(mass):\n",
    "    return math.floor(mass/3)-2\n",
    "get_fuel(100756)"
   ]
  },
  {
   "cell_type": "code",
   "execution_count": 2,
   "metadata": {},
   "outputs": [
    {
     "name": "stdout",
     "output_type": "stream",
     "text": [
      "['74767', '108567', '135114', '103725', '55085', '144135', '88766', '94314', '109095', '114013', '91594', '97858', '122165', '80803', '94873', '98280', '116305', '66960', '85105', '97510', '51829', '50460', '86361', '71217', '77310', '68460', '60591', '109303', '66381', '139184', '93497', '116217', '93193', '92289', '104371', '74040', '124924', '125877', '144950', '139877', '104798', '148258', '98386', '145120', '75609', '80208', '68458', '138641', '147555', '81179', '70443', '108683', '148921', '64459', '127861', '83336', '50123', '102155', '118397', '139916', '115265', '112932', '142676', '106577', '87480', '122386', '51573', '61156', '140013', '87671', '122005', '82909', '141790', '61341', '123625', '91724', '69630', '112495', '145851', '79977', '107629', '130937', '127680', '56887', '73639', '68652', '143813', '50498', '102140', '55277', '86773', '53889', '148907', '94901', '53640', '129436', '105184', '71527', '100433', '56709']\n"
     ]
    }
   ],
   "source": [
    "with open('input.txt') as f:\n",
    "    lines = f.read().splitlines()\n",
    "    print(lines)"
   ]
  },
  {
   "cell_type": "code",
   "execution_count": 3,
   "metadata": {},
   "outputs": [
    {
     "data": {
      "text/plain": [
       "3282935"
      ]
     },
     "execution_count": 3,
     "metadata": {},
     "output_type": "execute_result"
    }
   ],
   "source": [
    "sum([get_fuel(int(x)) for x in lines])"
   ]
  }
 ],
 "metadata": {
  "kernelspec": {
   "display_name": "Python 3",
   "language": "python",
   "name": "python3"
  },
  "language_info": {
   "codemirror_mode": {
    "name": "ipython",
    "version": 3
   },
   "file_extension": ".py",
   "mimetype": "text/x-python",
   "name": "python",
   "nbconvert_exporter": "python",
   "pygments_lexer": "ipython3",
   "version": "3.5.2"
  }
 },
 "nbformat": 4,
 "nbformat_minor": 2
}
