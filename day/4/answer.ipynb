{
 "cells": [
  {
   "cell_type": "markdown",
   "metadata": {},
   "source": [
    "# Part One"
   ]
  },
  {
   "cell_type": "code",
   "execution_count": 1,
   "metadata": {},
   "outputs": [
    {
     "data": {
      "text/plain": [
       "False"
      ]
     },
     "execution_count": 1,
     "metadata": {},
     "output_type": "execute_result"
    }
   ],
   "source": [
    "def two_adjacent_are_the_same(x):\n",
    "    s = str(x)\n",
    "    same = False\n",
    "    for i in range(len(s)-1):\n",
    "        if s[i] == s[i+1]:\n",
    "            same = True\n",
    "    return same\n",
    "two_adjacent_are_the_same(123789)"
   ]
  },
  {
   "cell_type": "code",
   "execution_count": 2,
   "metadata": {},
   "outputs": [
    {
     "data": {
      "text/plain": [
       "False"
      ]
     },
     "execution_count": 2,
     "metadata": {},
     "output_type": "execute_result"
    }
   ],
   "source": [
    "def digits_never_decrease(x):\n",
    "    s = str(x)\n",
    "    for i in range(len(s)-1):\n",
    "        if int(s[i]) > int(s[i+1]):\n",
    "            return False\n",
    "    return True\n",
    "\n",
    "digits_never_decrease(223450)"
   ]
  },
  {
   "cell_type": "code",
   "execution_count": 3,
   "metadata": {},
   "outputs": [
    {
     "name": "stdout",
     "output_type": "stream",
     "text": [
      "1019\n"
     ]
    }
   ],
   "source": [
    "range_min = 248345\n",
    "range_max = 746315\n",
    "count = 0\n",
    "for i in range(range_min, range_max+1):\n",
    "    if two_adjacent_are_the_same(i) and digits_never_decrease(i):\n",
    "        count += 1\n",
    "print(count)"
   ]
  },
  {
   "cell_type": "markdown",
   "metadata": {},
   "source": [
    "# Part Two"
   ]
  },
  {
   "cell_type": "code",
   "execution_count": 4,
   "metadata": {},
   "outputs": [
    {
     "data": {
      "text/plain": [
       "True"
      ]
     },
     "execution_count": 4,
     "metadata": {},
     "output_type": "execute_result"
    }
   ],
   "source": [
    "def not_part_of_larger_group(x):\n",
    "    s = str(x)+\"x\"\n",
    "    c = ''\n",
    "    count = 0\n",
    "    for i in range(len(s)):\n",
    "        if s[i] == c:\n",
    "            count += 1\n",
    "        else:\n",
    "            if count == 2:\n",
    "                return True\n",
    "            c = s[i]\n",
    "            count = 1\n",
    "    return False\n",
    "\n",
    "not_part_of_larger_group(112233)"
   ]
  },
  {
   "cell_type": "code",
   "execution_count": 5,
   "metadata": {},
   "outputs": [
    {
     "name": "stdout",
     "output_type": "stream",
     "text": [
      "660\n"
     ]
    }
   ],
   "source": [
    "count = 0\n",
    "for i in range(range_min, range_max+1):\n",
    "    if two_adjacent_are_the_same(i) and digits_never_decrease(i) and not_part_of_larger_group(i):\n",
    "        count += 1\n",
    "print(count)"
   ]
  }
 ],
 "metadata": {
  "kernelspec": {
   "display_name": "Python 3",
   "language": "python",
   "name": "python3"
  },
  "language_info": {
   "codemirror_mode": {
    "name": "ipython",
    "version": 3
   },
   "file_extension": ".py",
   "mimetype": "text/x-python",
   "name": "python",
   "nbconvert_exporter": "python",
   "pygments_lexer": "ipython3",
   "version": "3.6.3"
  }
 },
 "nbformat": 4,
 "nbformat_minor": 2
}
